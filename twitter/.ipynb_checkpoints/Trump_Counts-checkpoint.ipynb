{
 "cells": [
  {
   "cell_type": "code",
   "execution_count": 2,
   "metadata": {
    "collapsed": true
   },
   "outputs": [],
   "source": [
    "import psycopg2\n",
    "import pandas as pd"
   ]
  },
  {
   "cell_type": "code",
   "execution_count": 3,
   "metadata": {},
   "outputs": [
    {
     "name": "stdout",
     "output_type": "stream",
     "text": [
      "Uh oh, can't connect. Invalid dbname, user or password?\n",
      "column \"%trump%\" does not exist\n",
      "LINE 3: where lower(text) like \"%trump%\"\n",
      "                               ^\n",
      "\n"
     ]
    }
   ],
   "source": [
    "statement = \"\"\"SELECT job_id, count(*) \n",
    "FROM twitter.tweet\n",
    "where lower(text) like '%trump%'\n",
    "group by job_id;\"\"\"\n",
    "\n",
    "try:\n",
    "    connect_str = \"dbname='twitter' user='dsa_ro_user' host='dbase.dsa.missouri.edu'password='readonly'\"\n",
    "    # use our connection values to establish a connection\n",
    "    conn = psycopg2.connect(connect_str)\n",
    "    cursor = conn.cursor()\n",
    "    cursor.execute(statement)\n",
    "    \n",
    "    column_names = [desc[0] for desc in cursor.description]\n",
    "    rows = cursor.fetchall()\n",
    "except Exception as e:\n",
    "    print(\"Uh oh, can't connect. Invalid dbname, user or password?\")\n",
    "    print(e)"
   ]
  },
  {
   "cell_type": "code",
   "execution_count": null,
   "metadata": {
    "collapsed": true
   },
   "outputs": [],
   "source": []
  }
 ],
 "metadata": {
  "kernelspec": {
   "display_name": "Python 3",
   "language": "python",
   "name": "python3"
  },
  "language_info": {
   "codemirror_mode": {
    "name": "ipython",
    "version": 3
   },
   "file_extension": ".py",
   "mimetype": "text/x-python",
   "name": "python",
   "nbconvert_exporter": "python",
   "pygments_lexer": "ipython3",
   "version": "3.4.5"
  }
 },
 "nbformat": 4,
 "nbformat_minor": 2
}
